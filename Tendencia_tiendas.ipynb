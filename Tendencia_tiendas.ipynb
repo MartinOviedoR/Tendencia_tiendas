{
 "cells": [
  {
   "cell_type": "markdown",
   "metadata": {},
   "source": [
    "## Calculo de las tendencias por tienda para saber cuales tienen tendencia a la baja y cuales a la alza"
   ]
  },
  {
   "cell_type": "code",
   "execution_count": 205,
   "metadata": {},
   "outputs": [],
   "source": [
    "#Se importan los paquetes necesarios\n",
    "import pandas as pd\n",
    "import numpy as np\n",
    "from sklearn import linear_model\n",
    "import datetime as datetime\n",
    "import matplotlib.pyplot as plt"
   ]
  },
  {
   "cell_type": "code",
   "execution_count": 206,
   "metadata": {},
   "outputs": [],
   "source": [
    "#Leer el df\n",
    "df = pd.read_csv(\"Medicamentos2018.csv\", delimiter=\";\")"
   ]
  },
  {
   "cell_type": "code",
   "execution_count": 207,
   "metadata": {},
   "outputs": [],
   "source": [
    "#convertir el objeto en fecha y agrupar\n",
    "df['Fecha'] = pd.to_datetime(df[\"Fecha\"])\n",
    "df[\"mes\"] = df['Fecha'].map(lambda x: int(str(x).split('-')[1]))\n",
    "df = df.groupby(['nombre_Sucursal', 'mes']).sum().reset_index()"
   ]
  },
  {
   "cell_type": "code",
   "execution_count": 178,
   "metadata": {},
   "outputs": [
    {
     "data": {
      "text/plain": [
       "290"
      ]
     },
     "execution_count": 178,
     "metadata": {},
     "output_type": "execute_result"
    }
   ],
   "source": [
    "#revisar el conteo unico\n",
    "df['nombre_Sucursal'].nunique()"
   ]
  },
  {
   "cell_type": "code",
   "execution_count": null,
   "metadata": {},
   "outputs": [],
   "source": [
    "#esta loop nos va a dar la tendencia con una regresión lineal\n",
    "M = []\n",
    "for tienda in df[\"nombre_Sucursal\"].unique():\n",
    "    tienda = 'Drog. Niza'\n",
    "    dftemp = df[df[\"nombre_Sucursal\"] == tienda]\n",
    "    dftemp.sort_values(by = [\"mes\"], inplace = True)\n",
    "    lin = linear_model.LinearRegression()\n",
    "    dftemp.reset_index(drop = True, inplace = True)\n",
    "    dftemp.reset_index(inplace = True)\n",
    "    dftemp['index'] = dftemp['index'] + 1\n",
    "    try:\n",
    "        lin.fit(np.array(dftemp[\"mes\"]).reshape(-1,1), dftemp[\"Venta_Neta\"])\n",
    "        M.append([tienda, lin.coef_])\n",
    "    except: \n",
    "        print(\"Falla\")\n",
    "        M.append([tienda, 0,0])"
   ]
  },
  {
   "cell_type": "code",
   "execution_count": 209,
   "metadata": {},
   "outputs": [],
   "source": [
    "#transformamos el resultado\n",
    "df_pend = pd.DataFrame(M, columns = [\"Drog\", \"Pendiente\"])"
   ]
  },
  {
   "cell_type": "code",
   "execution_count": 219,
   "metadata": {},
   "outputs": [],
   "source": [
    "#lo ordenamos por pendiente\n",
    "df_pend = df_pend.sort_values(by=\"Pendiente\")"
   ]
  },
  {
   "cell_type": "code",
   "execution_count": 214,
   "metadata": {},
   "outputs": [
    {
     "data": {
      "text/plain": [
       "[<matplotlib.lines.Line2D at 0x1690296a488>]"
      ]
     },
     "execution_count": 214,
     "metadata": {},
     "output_type": "execute_result"
    },
    {
     "data": {
      "image/png": "[encoded data removed]",
      "text/plain": [
       "<Figure size 432x288 with 1 Axes>"
      ]
     },
     "metadata": {
      "needs_background": "light"
     },
     "output_type": "display_data"
    }
   ],
   "source": [
    "#exploramos los datos para saber si hacen sentido\n",
    "plt.scatter(df.query(\"nombre_Sucursal == 'Drog. Niza'\")['mes'], df.query(\"nombre_Sucursal == 'Drog. Niza'\")['Venta_Neta'])\n",
    "plt.plot(df.query(\"nombre_Sucursal == 'Drog. Niza'\")['mes'], lin.predict(np.array(dftemp[\"mes\"]).reshape(-1,1)))"
   ]
  },
  {
   "cell_type": "code",
   "execution_count": 228,
   "metadata": {},
   "outputs": [],
   "source": [
    "#exportamos el df para pasarlo a power bi\n",
    "df_pend.to_excel('tendencia.xlsx', index = True)"
   ]
  },
  {
   "cell_type": "code",
   "execution_count": 227,
   "metadata": {},
   "outputs": [
    {
     "data": {
      "text/html": [
       "<div>\n",
       "<style scoped>\n",
       "    .dataframe tbody tr th:only-of-type {\n",
       "        vertical-align: middle;\n",
       "    }\n",
       "\n",
       "    .dataframe tbody tr th {\n",
       "        vertical-align: top;\n",
       "    }\n",
       "\n",
       "    .dataframe thead th {\n",
       "        text-align: right;\n",
       "    }\n",
       "</style>\n",
       "<table border=\"1\" class=\"dataframe\">\n",
       "  <thead>\n",
       "    <tr style=\"text-align: right;\">\n",
       "      <th></th>\n",
       "      <th>index</th>\n",
       "      <th>Drog</th>\n",
       "      <th>Pendiente</th>\n",
       "    </tr>\n",
       "  </thead>\n",
       "  <tbody>\n",
       "    <tr>\n",
       "      <th>0</th>\n",
       "      <td>0</td>\n",
       "      <td>Drog. Niza</td>\n",
       "      <td>[-708928.4965034962]</td>\n",
       "    </tr>\n",
       "    <tr>\n",
       "      <th>1</th>\n",
       "      <td>1</td>\n",
       "      <td>Drog. Mazurén</td>\n",
       "      <td>[-610629.8076923074]</td>\n",
       "    </tr>\n",
       "    <tr>\n",
       "      <th>2</th>\n",
       "      <td>2</td>\n",
       "      <td>Drog. Unicentro Occidente</td>\n",
       "      <td>[-486949.38111888105]</td>\n",
       "    </tr>\n",
       "    <tr>\n",
       "      <th>3</th>\n",
       "      <td>3</td>\n",
       "      <td>Drog. Tocancipá</td>\n",
       "      <td>[-482777.86013985996]</td>\n",
       "    </tr>\n",
       "    <tr>\n",
       "      <th>4</th>\n",
       "      <td>4</td>\n",
       "      <td>Drog. Dep. Zipaquirá</td>\n",
       "      <td>[-407483.0174825174]</td>\n",
       "    </tr>\n",
       "    <tr>\n",
       "      <th>...</th>\n",
       "      <td>...</td>\n",
       "      <td>...</td>\n",
       "      <td>...</td>\n",
       "    </tr>\n",
       "    <tr>\n",
       "      <th>275</th>\n",
       "      <td>275</td>\n",
       "      <td>Drog Plaza Central</td>\n",
       "      <td>[574088.4860139858]</td>\n",
       "    </tr>\n",
       "    <tr>\n",
       "      <th>276</th>\n",
       "      <td>276</td>\n",
       "      <td>Drog. CC Diver Plaza - Bogotá</td>\n",
       "      <td>[584530.2937062937]</td>\n",
       "    </tr>\n",
       "    <tr>\n",
       "      <th>277</th>\n",
       "      <td>277</td>\n",
       "      <td>Drog CC Titán Plaza</td>\n",
       "      <td>[759915.2657342656]</td>\n",
       "    </tr>\n",
       "    <tr>\n",
       "      <th>278</th>\n",
       "      <td>278</td>\n",
       "      <td>Drog CC Fontanar Chía</td>\n",
       "      <td>[1082473.367132867]</td>\n",
       "    </tr>\n",
       "    <tr>\n",
       "      <th>279</th>\n",
       "      <td>279</td>\n",
       "      <td>Drog Unicentro Girardot</td>\n",
       "      <td>[1844637.9999999993]</td>\n",
       "    </tr>\n",
       "  </tbody>\n",
       "</table>\n",
       "<p>280 rows × 3 columns</p>\n",
       "</div>"
      ],
      "text/plain": [
       "     index                           Drog              Pendiente\n",
       "0        0                     Drog. Niza   [-708928.4965034962]\n",
       "1        1                  Drog. Mazurén   [-610629.8076923074]\n",
       "2        2      Drog. Unicentro Occidente  [-486949.38111888105]\n",
       "3        3                Drog. Tocancipá  [-482777.86013985996]\n",
       "4        4           Drog. Dep. Zipaquirá   [-407483.0174825174]\n",
       "..     ...                            ...                    ...\n",
       "275    275             Drog Plaza Central    [574088.4860139858]\n",
       "276    276  Drog. CC Diver Plaza - Bogotá    [584530.2937062937]\n",
       "277    277            Drog CC Titán Plaza    [759915.2657342656]\n",
       "278    278          Drog CC Fontanar Chía    [1082473.367132867]\n",
       "279    279        Drog Unicentro Girardot   [1844637.9999999993]\n",
       "\n",
       "[280 rows x 3 columns]"
      ]
     },
     "execution_count": 227,
     "metadata": {},
     "output_type": "execute_result"
    }
   ],
   "source": [
    "df_pend.reset_index(drop = True, inplace = True)\n",
    "df_pend.reset_index(inplace = True)\n",
    "df_pend"
   ]
  },
  {
   "cell_type": "code",
   "execution_count": null,
   "metadata": {},
   "outputs": [],
   "source": []
  }
 ],
 "metadata": {
  "kernelspec": {
   "display_name": "Python 3",
   "language": "python",
   "name": "python3"
  },
  "language_info": {
   "codemirror_mode": {
    "name": "ipython",
    "version": 3
   },
   "file_extension": ".py",
   "mimetype": "text/x-python",
   "name": "python",
   "nbconvert_exporter": "python",
   "pygments_lexer": "ipython3",
   "version": "3.7.6"
  }
 },
 "nbformat": 4,
 "nbformat_minor": 4
}
